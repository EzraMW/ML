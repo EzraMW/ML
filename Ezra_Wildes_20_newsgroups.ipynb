{
  "cells": [
    {
      "cell_type": "markdown",
      "metadata": {
        "id": "view-in-github",
        "colab_type": "text"
      },
      "source": [
        "<a href=\"https://colab.research.google.com/github/EzraMW/ML/blob/main/Ezra_Wildes_20_newsgroups.ipynb\" target=\"_parent\"><img src=\"https://colab.research.google.com/assets/colab-badge.svg\" alt=\"Open In Colab\"/></a>"
      ]
    },
    {
      "cell_type": "markdown",
      "metadata": {
        "id": "xSde5H1rRKUM"
      },
      "source": [
        "From: https://scikit-learn.org/0.19/datasets/twenty_newsgroups.html\n",
        "Also, great explanation at: \n",
        "https://krakensystems.co/blog/2018/text-classification"
      ]
    },
    {
      "cell_type": "markdown",
      "source": [
        "For now, we'll use the training dataset built into Sklearn. "
      ],
      "metadata": {
        "id": "UVmEtdZrRv6f"
      }
    },
    {
      "cell_type": "code",
      "execution_count": 1,
      "metadata": {
        "id": "YYRJIzRZRKUP"
      },
      "outputs": [],
      "source": [
        "import sys\n",
        "if not sys.warnoptions:\n",
        "    import warnings\n",
        "    warnings.simplefilter(\"ignore\")\n",
        "\n",
        "import matplotlib.pyplot as plt\n",
        "\n",
        "from sklearn.datasets import fetch_20newsgroups\n",
        "newsgroups_train_full = fetch_20newsgroups(subset='train')\n",
        "#newsgroups_test = fetch_20newsgroups(subset='test')"
      ]
    },
    {
      "cell_type": "code",
      "execution_count": 2,
      "metadata": {
        "id": "Xv-xRGuLRKUQ",
        "outputId": "85dba109-14aa-4424-b921-9ebd392169f5",
        "colab": {
          "base_uri": "https://localhost:8080/"
        }
      },
      "outputs": [
        {
          "output_type": "stream",
          "name": "stdout",
          "text": [
            "['alt.atheism',\n",
            " 'comp.graphics',\n",
            " 'comp.os.ms-windows.misc',\n",
            " 'comp.sys.ibm.pc.hardware',\n",
            " 'comp.sys.mac.hardware',\n",
            " 'comp.windows.x',\n",
            " 'misc.forsale',\n",
            " 'rec.autos',\n",
            " 'rec.motorcycles',\n",
            " 'rec.sport.baseball',\n",
            " 'rec.sport.hockey',\n",
            " 'sci.crypt',\n",
            " 'sci.electronics',\n",
            " 'sci.med',\n",
            " 'sci.space',\n",
            " 'soc.religion.christian',\n",
            " 'talk.politics.guns',\n",
            " 'talk.politics.mideast',\n",
            " 'talk.politics.misc',\n",
            " 'talk.religion.misc']\n"
          ]
        }
      ],
      "source": [
        "from pprint import pprint\n",
        "pprint(list(newsgroups_train_full.target_names))"
      ]
    },
    {
      "cell_type": "markdown",
      "source": [
        "Now, we need to create the vectors needed for classifications. To make things easier (faster) we'll limit ourselves to only a few categories. From the shape function, try to understand how many features there are in the dataset, and how many records are in the train / test datasets."
      ],
      "metadata": {
        "id": "EHSnDDB2R7a1"
      }
    },
    {
      "cell_type": "code",
      "execution_count": 3,
      "metadata": {
        "id": "GMtKnEPoRKUR",
        "outputId": "80c87e4c-b026-41a2-cd9d-4e55bde8858e",
        "colab": {
          "base_uri": "https://localhost:8080/"
        }
      },
      "outputs": [
        {
          "output_type": "execute_result",
          "data": {
            "text/plain": [
              "(2034, 34118)"
            ]
          },
          "metadata": {},
          "execution_count": 3
        }
      ],
      "source": [
        "from sklearn.feature_extraction.text import TfidfVectorizer \n",
        "cats = ['alt.atheism', 'talk.religion.misc', 'comp.graphics', 'sci.space']\n",
        "newsgroups_train = fetch_20newsgroups(subset='train', categories=cats)\n",
        "newsgroups_test = fetch_20newsgroups(subset='test',  categories=cats)\n",
        "vectorizer = TfidfVectorizer()\n",
        "vectors = vectorizer.fit_transform(newsgroups_train.data)\n",
        "vectors.shape"
      ]
    },
    {
      "cell_type": "code",
      "execution_count": 4,
      "metadata": {
        "id": "xWjYl_wVRKUS",
        "outputId": "b4eeef73-f247-4d6b-f6db-3acafa334290",
        "colab": {
          "base_uri": "https://localhost:8080/"
        }
      },
      "outputs": [
        {
          "output_type": "execute_result",
          "data": {
            "text/plain": [
              "(1353, 34118)"
            ]
          },
          "metadata": {},
          "execution_count": 4
        }
      ],
      "source": [
        "vectors_test = vectorizer.transform(newsgroups_test.data)\n",
        "vectors_test.shape"
      ]
    },
    {
      "cell_type": "markdown",
      "source": [
        "We'll first use the Multinomial NB classifier as it's the fastest (do you know why?)."
      ],
      "metadata": {
        "id": "kohKZk8_ScXh"
      }
    },
    {
      "cell_type": "markdown",
      "metadata": {
        "id": "voalOvqoRKUS"
      },
      "source": [
        "https://scikit-learn.org/stable/modules/generated/sklearn.naive_bayes.MultinomialNB.html"
      ]
    },
    {
      "cell_type": "code",
      "execution_count": 5,
      "metadata": {
        "id": "VUXMEQveRKUT",
        "outputId": "eea9d4ad-d11e-41a9-8180-57a501379d01",
        "colab": {
          "base_uri": "https://localhost:8080/"
        }
      },
      "outputs": [
        {
          "output_type": "execute_result",
          "data": {
            "text/plain": [
              "0.7924374490634268"
            ]
          },
          "metadata": {},
          "execution_count": 5
        }
      ],
      "source": [
        "from sklearn.naive_bayes import MultinomialNB\n",
        "from sklearn import metrics\n",
        "clf = MultinomialNB()\n",
        "clf.fit(vectors, newsgroups_train.target)\n",
        "pred = clf.predict(vectors_test)\n",
        "metrics.f1_score(newsgroups_test.target, pred, average='macro')"
      ]
    },
    {
      "cell_type": "markdown",
      "source": [
        "There is an alpha parameter in NB that controls the strength of the smoothing. If alpha is zero we will have the 0 probability problem we talked about it class. As alpha increases, the likelihood probability moves towards uniform distribution (0.5), so a smaller value of alpha is likely better, but a very small value will put more weight for less frequent words (a type of feature selection).  This formula is discussed at:\n",
        "https://towardsdatascience.com/laplace-smoothing-in-na%C3%AFve-bayes-algorithm-9c237a8bdece\n",
        "\n",
        "and we talked about it in class:\n",
        "![image.png](data:image/png;base64,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)"
      ],
      "metadata": {
        "id": "n2ndY_bVTWmd"
      }
    },
    {
      "cell_type": "code",
      "source": [
        "from sklearn.naive_bayes import MultinomialNB\n",
        "from sklearn import metrics\n",
        "for value in [10, 1, 0.01, 0.001, 0.0001, 0]:\n",
        "  clf = MultinomialNB(alpha=value)\n",
        "  clf.fit(vectors, newsgroups_train.target)\n",
        "  pred = clf.predict(vectors_test)\n",
        "  print(metrics.f1_score(newsgroups_test.target, pred, average='macro'))"
      ],
      "metadata": {
        "colab": {
          "base_uri": "https://localhost:8080/"
        },
        "id": "mz8kBVR1S87m",
        "outputId": "8d1787ba-2cbc-4c61-a07d-c6136d863a32"
      },
      "execution_count": 6,
      "outputs": [
        {
          "output_type": "stream",
          "name": "stdout",
          "text": [
            "0.6144072995178805\n",
            "0.7924374490634268\n",
            "0.8821359240272957\n",
            "0.8808325045824638\n",
            "0.8746771093948736\n",
            "0.8660426652791797\n"
          ]
        },
        {
          "output_type": "stream",
          "name": "stderr",
          "text": [
            "/usr/local/lib/python3.8/dist-packages/sklearn/naive_bayes.py:555: UserWarning: alpha too small will result in numeric errors, setting alpha = 1.0e-10\n",
            "  warnings.warn(\n"
          ]
        }
      ]
    },
    {
      "cell_type": "markdown",
      "source": [
        "First, note that we use macro metrics for the score (f1).  The difference between macro and micro is: macro averaging gives equal weight to each category while micro averaging gives equal weight to each sample (take from Wikipedia). \n",
        "The alpha values are one example of a hyperparameter optimization. \n",
        "However, it is quite hard to understand *why* these values of alpha improved performance.\n",
        "Let's use feature selection instead.  First, let's try to see what features have the highest feature count (frequency or tf). "
      ],
      "metadata": {
        "id": "U9Y3dhTMWLcX"
      }
    },
    {
      "cell_type": "code",
      "execution_count": 7,
      "metadata": {
        "id": "ztyujzIhRKUU",
        "outputId": "abb12e76-e4a6-4ac9-e05d-0282182483a4",
        "colab": {
          "base_uri": "https://localhost:8080/"
        }
      },
      "outputs": [
        {
          "output_type": "stream",
          "name": "stdout",
          "text": [
            "alt.atheism: edu it and in you that is of to the\n",
            "comp.graphics: edu in graphics it is for and of to the\n",
            "sci.space: edu it that is in and space to of the\n",
            "talk.religion.misc: not it you in is that and to of the\n"
          ]
        }
      ],
      "source": [
        "import numpy as np\n",
        "def show_top10(classifier, vectorizer, categories):\n",
        "    feature_names = np.asarray(vectorizer.get_feature_names_out())\n",
        "    for i, category in enumerate(categories):\n",
        "        top10 = np.argsort(classifier.feature_log_prob_[i])[-10:]\n",
        "        print(\"%s: %s\" % (category, \" \".join(feature_names[top10])))\n",
        "show_top10(clf, vectorizer, newsgroups_train.target_names)"
      ]
    },
    {
      "cell_type": "markdown",
      "source": [
        "As you can see, the most popular words are the same and in some cases stopwords (is, it, and, etc.).  How can we change this?  Take a look at:\n",
        "https://krakensystems.co/blog/2018/text-classification\n",
        "You can see some nice code about how to create vectors without the stopwords. "
      ],
      "metadata": {
        "id": "qkpCIoSbZPKH"
      }
    },
    {
      "cell_type": "code",
      "source": [
        "#from nltk.corpus import stopwords\n",
        "import nltk\n",
        "nltk.download('stopwords')\n",
        "stopwords = nltk.corpus.stopwords.words('english')\n",
        "print(stopwords)"
      ],
      "metadata": {
        "colab": {
          "base_uri": "https://localhost:8080/"
        },
        "id": "h1gprkACZwVO",
        "outputId": "f1e54871-baf6-47b3-fc80-83fe7f54c0cf"
      },
      "execution_count": 8,
      "outputs": [
        {
          "output_type": "stream",
          "name": "stdout",
          "text": [
            "['i', 'me', 'my', 'myself', 'we', 'our', 'ours', 'ourselves', 'you', \"you're\", \"you've\", \"you'll\", \"you'd\", 'your', 'yours', 'yourself', 'yourselves', 'he', 'him', 'his', 'himself', 'she', \"she's\", 'her', 'hers', 'herself', 'it', \"it's\", 'its', 'itself', 'they', 'them', 'their', 'theirs', 'themselves', 'what', 'which', 'who', 'whom', 'this', 'that', \"that'll\", 'these', 'those', 'am', 'is', 'are', 'was', 'were', 'be', 'been', 'being', 'have', 'has', 'had', 'having', 'do', 'does', 'did', 'doing', 'a', 'an', 'the', 'and', 'but', 'if', 'or', 'because', 'as', 'until', 'while', 'of', 'at', 'by', 'for', 'with', 'about', 'against', 'between', 'into', 'through', 'during', 'before', 'after', 'above', 'below', 'to', 'from', 'up', 'down', 'in', 'out', 'on', 'off', 'over', 'under', 'again', 'further', 'then', 'once', 'here', 'there', 'when', 'where', 'why', 'how', 'all', 'any', 'both', 'each', 'few', 'more', 'most', 'other', 'some', 'such', 'no', 'nor', 'not', 'only', 'own', 'same', 'so', 'than', 'too', 'very', 's', 't', 'can', 'will', 'just', 'don', \"don't\", 'should', \"should've\", 'now', 'd', 'll', 'm', 'o', 're', 've', 'y', 'ain', 'aren', \"aren't\", 'couldn', \"couldn't\", 'didn', \"didn't\", 'doesn', \"doesn't\", 'hadn', \"hadn't\", 'hasn', \"hasn't\", 'haven', \"haven't\", 'isn', \"isn't\", 'ma', 'mightn', \"mightn't\", 'mustn', \"mustn't\", 'needn', \"needn't\", 'shan', \"shan't\", 'shouldn', \"shouldn't\", 'wasn', \"wasn't\", 'weren', \"weren't\", 'won', \"won't\", 'wouldn', \"wouldn't\"]\n"
          ]
        },
        {
          "output_type": "stream",
          "name": "stderr",
          "text": [
            "[nltk_data] Downloading package stopwords to /root/nltk_data...\n",
            "[nltk_data]   Unzipping corpora/stopwords.zip.\n"
          ]
        }
      ]
    },
    {
      "cell_type": "code",
      "source": [
        "from sklearn.feature_extraction.text import CountVectorizer\n",
        "vectorizer = CountVectorizer(stop_words=stopwords)\n",
        "#print(vectorizer)\n",
        "vectorizer.fit(newsgroups_train.data)\n",
        "vectors = vectorizer.transform(newsgroups_train.data)\n",
        "print(vectors.shape)"
      ],
      "metadata": {
        "colab": {
          "base_uri": "https://localhost:8080/"
        },
        "id": "4QzcCQGVm6pG",
        "outputId": "0df4f35e-3bdc-4ee0-db9b-6ee570440f74"
      },
      "execution_count": 9,
      "outputs": [
        {
          "output_type": "stream",
          "name": "stdout",
          "text": [
            "(2034, 33977)\n"
          ]
        }
      ]
    },
    {
      "cell_type": "code",
      "execution_count": 10,
      "metadata": {
        "id": "OEmdlO-mRKUV",
        "outputId": "232d5032-9380-4979-9e6e-37389245ccd8",
        "colab": {
          "base_uri": "https://localhost:8080/"
        }
      },
      "outputs": [
        {
          "output_type": "execute_result",
          "data": {
            "text/plain": [
              "(1353, 33977)"
            ]
          },
          "metadata": {},
          "execution_count": 10
        }
      ],
      "source": [
        "vectors_test = vectorizer.transform(newsgroups_test.data)\n",
        "vectors_test.shape"
      ]
    },
    {
      "cell_type": "markdown",
      "source": [
        "Did taking out the stopwords help?  Let's find out!"
      ],
      "metadata": {
        "id": "qwNombS8iQ6v"
      }
    },
    {
      "cell_type": "code",
      "execution_count": 11,
      "metadata": {
        "id": "xbIp5XuHRKUW",
        "outputId": "6ef7537b-5132-4589-805b-2530194c706b",
        "colab": {
          "base_uri": "https://localhost:8080/"
        }
      },
      "outputs": [
        {
          "output_type": "stream",
          "name": "stdout",
          "text": [
            "0.8514764472563041\n",
            "0.8866387019415313\n",
            "0.8863490220370683\n",
            "0.8827427087688202\n",
            "0.8781168062845757\n",
            "0.8691516834411483\n"
          ]
        },
        {
          "output_type": "stream",
          "name": "stderr",
          "text": [
            "/usr/local/lib/python3.8/dist-packages/sklearn/naive_bayes.py:555: UserWarning: alpha too small will result in numeric errors, setting alpha = 1.0e-10\n",
            "  warnings.warn(\n"
          ]
        }
      ],
      "source": [
        "from sklearn.naive_bayes import MultinomialNB\n",
        "from sklearn import metrics\n",
        "for value in [10, 1, 0.01, 0.001, 0.0001, 0]:\n",
        "  clf = MultinomialNB(alpha=value)\n",
        "  clf.fit(vectors, newsgroups_train.target)\n",
        "  pred = clf.predict(vectors_test)\n",
        "  print(metrics.f1_score(newsgroups_test.target, pred, average='macro'))"
      ]
    },
    {
      "cell_type": "markdown",
      "source": [
        "Let's see how the top ten words looks now!"
      ],
      "metadata": {
        "id": "4WNjRd-Eo1nw"
      }
    },
    {
      "cell_type": "code",
      "execution_count": 12,
      "metadata": {
        "id": "unKzvW0HRKUW",
        "outputId": "2181a0a9-0ade-4aff-cd82-c9e7a715274e",
        "colab": {
          "base_uri": "https://localhost:8080/"
        }
      },
      "outputs": [
        {
          "output_type": "stream",
          "name": "stdout",
          "text": [
            "alt.atheism: organization would lines subject com writes people one god edu\n",
            "comp.graphics: file posting university com image organization graphics subject lines edu\n",
            "sci.space: article writes com would lines organization subject nasa edu space\n",
            "talk.religion.misc: lines would jesus organization people subject one god com edu\n"
          ]
        }
      ],
      "source": [
        "show_top10(clf, vectorizer, newsgroups_train.target_names)"
      ]
    },
    {
      "cell_type": "markdown",
      "source": [
        "As you can see, unfortunately, some words seem to overfit the model (like com and subject). These are artifacts from the fact that this is an email corpose. We can take these out..."
      ],
      "metadata": {
        "id": "q8sOrcStpNDh"
      }
    },
    {
      "cell_type": "code",
      "source": [
        "from sklearn.feature_extraction.text import TfidfVectorizer \n",
        "newsgroups_train = fetch_20newsgroups(subset='train',\n",
        "                                      remove=('headers', 'footers', 'quotes'),categories=cats)\n",
        "\n",
        "newsgroups_test = fetch_20newsgroups(subset='test',\n",
        "                                     remove=('headers', 'footers', 'quotes'),categories=cats)\n",
        "vectorizer = CountVectorizer(stop_words=stopwords)\n",
        "vectors = vectorizer.fit_transform(newsgroups_train.data)\n",
        "print(vectors.shape)\n",
        "vectors_test = vectorizer.transform(newsgroups_test.data)\n",
        "print(vectors_test.shape)"
      ],
      "metadata": {
        "colab": {
          "base_uri": "https://localhost:8080/"
        },
        "id": "TapdkugppZ-x",
        "outputId": "1f7d532f-2023-4158-807d-8e82a5824132"
      },
      "execution_count": 13,
      "outputs": [
        {
          "output_type": "stream",
          "name": "stdout",
          "text": [
            "(2034, 26739)\n",
            "(1353, 26739)\n"
          ]
        }
      ]
    },
    {
      "cell_type": "markdown",
      "source": [
        "Let's see how the accuracy is now!"
      ],
      "metadata": {
        "id": "Vuaw_x5Np_50"
      }
    },
    {
      "cell_type": "code",
      "source": [
        "from sklearn.naive_bayes import MultinomialNB\n",
        "from sklearn import metrics\n",
        "for value in [10, 1, 0.01, 0.001, 0.0001, 0]:\n",
        "  clf = MultinomialNB(alpha=value)\n",
        "  clf.fit(vectors, newsgroups_train.target)\n",
        "  pred = clf.predict(vectors_test)\n",
        "  print(metrics.f1_score(newsgroups_test.target, pred, average='macro'))"
      ],
      "metadata": {
        "colab": {
          "base_uri": "https://localhost:8080/"
        },
        "id": "c4oFCdMJqCA1",
        "outputId": "9863f024-0f70-46f9-8adb-68c8c884dbc1"
      },
      "execution_count": 14,
      "outputs": [
        {
          "output_type": "stream",
          "name": "stdout",
          "text": [
            "0.7146613383458164\n",
            "0.7677138606860464\n",
            "0.7511496058759426\n",
            "0.7517360304585499\n",
            "0.7409593995532573\n",
            "0.7278885444867065\n"
          ]
        },
        {
          "output_type": "stream",
          "name": "stderr",
          "text": [
            "/usr/local/lib/python3.8/dist-packages/sklearn/naive_bayes.py:555: UserWarning: alpha too small will result in numeric errors, setting alpha = 1.0e-10\n",
            "  warnings.warn(\n"
          ]
        }
      ]
    },
    {
      "cell_type": "markdown",
      "source": [
        "Blah! The overfitted features helped more than we would have liked!!!\n",
        "\n",
        "Out of curiousity, how about seeing a confusion matrix!"
      ],
      "metadata": {
        "id": "X8j-6K_Uru5q"
      }
    },
    {
      "cell_type": "code",
      "source": [
        "from sklearn.metrics import confusion_matrix\n",
        "from sklearn.metrics import classification_report\n",
        "cm = confusion_matrix(newsgroups_test.target, pred)\n",
        "print(\"Confusion matrix:\")\n",
        "print(cm)\n",
        "print()\n",
        "print(classification_report(newsgroups_test.target, pred, target_names=cats))"
      ],
      "metadata": {
        "colab": {
          "base_uri": "https://localhost:8080/"
        },
        "id": "nBAYZnQywzjQ",
        "outputId": "eb2be109-c98d-4037-dd47-3f2521812e52"
      },
      "execution_count": 15,
      "outputs": [
        {
          "output_type": "stream",
          "name": "stdout",
          "text": [
            "Confusion matrix:\n",
            "[[206   6  42  65]\n",
            " [  7 340  40   2]\n",
            " [ 16  17 350  11]\n",
            " [ 86   6  34 125]]\n",
            "\n",
            "                    precision    recall  f1-score   support\n",
            "\n",
            "       alt.atheism       0.65      0.65      0.65       319\n",
            "talk.religion.misc       0.92      0.87      0.90       389\n",
            "     comp.graphics       0.75      0.89      0.81       394\n",
            "         sci.space       0.62      0.50      0.55       251\n",
            "\n",
            "          accuracy                           0.75      1353\n",
            "         macro avg       0.74      0.73      0.73      1353\n",
            "      weighted avg       0.75      0.75      0.75      1353\n",
            "\n"
          ]
        }
      ]
    },
    {
      "cell_type": "markdown",
      "metadata": {
        "id": "nHs0wpilRKUX"
      },
      "source": [
        "Now let's try to understand what you got!  What were the 20 most important words overall?"
      ]
    },
    {
      "cell_type": "code",
      "execution_count": 16,
      "metadata": {
        "id": "kG5D0_3GRKUX"
      },
      "outputs": [],
      "source": [
        "from sklearn.feature_selection import SelectKBest, chi2, mutual_info_classif, f_classif\n",
        "#from sklearn.feature_selection import chi2\n",
        "# compute chi2 for each feature\n",
        "chi2score = chi2(vectors, newsgroups_train.target)[0]\n",
        "wscores = zip(vectorizer.get_feature_names_out(),chi2score)"
      ]
    },
    {
      "cell_type": "markdown",
      "metadata": {
        "id": "O8Lhv7ifRKUX"
      },
      "source": [
        "In case you were wondering (like I was) why we need the subscript [0] up above, it is because the Chi functions returns both the rank and the p-values in the test. See: https://scikit-learn.org/stable/modules/generated/sklearn.feature_selection.chi2.html#sklearn.feature_selection.chi2"
      ]
    },
    {
      "cell_type": "code",
      "execution_count": 17,
      "metadata": {
        "id": "XBW-6YAWRKUX",
        "outputId": "e92e694d-6dca-406a-c5ae-8de6b8e9a62c",
        "colab": {
          "base_uri": "https://localhost:8080/"
        }
      },
      "outputs": [
        {
          "output_type": "stream",
          "name": "stdout",
          "text": [
            "Overall\n",
            "('space', 2114.3291993638345)\n",
            "('image', 1002.3573689042399)\n",
            "('graphics', 1000.3151101745898)\n",
            "('god', 972.1333339908729)\n",
            "('nasa', 739.6052005383311)\n",
            "('jesus', 696.9986217061318)\n",
            "('jpeg', 649.7098818406524)\n",
            "('launch', 631.4282493202596)\n",
            "('atheism', 614.5291005693214)\n",
            "('file', 557.1821472367847)\n",
            "('atheists', 504.45345546642807)\n",
            "('orbit', 471.13167222112975)\n",
            "('lunar', 442.2630691399662)\n",
            "('shuttle', 437.25528950511523)\n",
            "('bible', 431.3096419334133)\n",
            "('christian', 408.54496246001946)\n",
            "('satellite', 402.66432930421126)\n",
            "('files', 391.2249057712174)\n",
            "('ra', 390.3976582454005)\n",
            "('color', 382.5549737110668)\n"
          ]
        }
      ],
      "source": [
        "print(\"Overall\")\n",
        "wchi2 = sorted(wscores,key=lambda x:x[1],reverse = True) \n",
        "for i in range(0,20):\n",
        "    print(wchi2[i])"
      ]
    },
    {
      "cell_type": "markdown",
      "source": [
        "Question #1: Repeat this with the other 2 univariate feature selection methods -- Mutual Information (information gain) and \n",
        "ANOVA (f-classifier).  What did you get?"
      ],
      "metadata": {
        "id": "ZmTxRuc3sCli"
      }
    },
    {
      "cell_type": "markdown",
      "source": [
        "**Mutual Information**"
      ],
      "metadata": {
        "id": "SR47VpKSg94m"
      }
    },
    {
      "cell_type": "code",
      "source": [
        "mutual_info = mutual_info_classif(vectors, newsgroups_train.target)\n",
        "# print(mutual_info)\n",
        "mscores = zip(vectorizer.get_feature_names_out(), mutual_info)\n",
        "# print(mscores)\n",
        "print(\"Mutual Info Scores:\")\n",
        "ms = sorted(mscores, key=lambda x:x[1], reverse=True)\n",
        "for i in range(20):\n",
        "  print(ms[i])"
      ],
      "metadata": {
        "id": "ua2LRyxisNjz",
        "colab": {
          "base_uri": "https://localhost:8080/"
        },
        "outputId": "ef0ef431-e6e0-4f58-d96b-1e145052b99d"
      },
      "execution_count": 18,
      "outputs": [
        {
          "output_type": "stream",
          "name": "stdout",
          "text": [
            "Mutual Info Scores:\n",
            "('space', 0.1173236239203111)\n",
            "('god', 0.08240250725184692)\n",
            "('graphics', 0.08049773882433058)\n",
            "('nasa', 0.0554899591549844)\n",
            "('jesus', 0.053335197282894695)\n",
            "('bible', 0.050045152330884676)\n",
            "('religion', 0.04976531130996309)\n",
            "('orbit', 0.04918436713613978)\n",
            "('people', 0.04861661784666314)\n",
            "('thanks', 0.04463381475170024)\n",
            "('christian', 0.04404773236194079)\n",
            "('launch', 0.04277924010634877)\n",
            "('program', 0.04084815955227174)\n",
            "('christians', 0.03895386885667451)\n",
            "('shuttle', 0.03786743703272834)\n",
            "('moon', 0.037685026613542214)\n",
            "('atheism', 0.036343922682811135)\n",
            "('file', 0.03534148343611539)\n",
            "('files', 0.035054492237774494)\n",
            "('religious', 0.0350036736698566)\n"
          ]
        }
      ]
    },
    {
      "cell_type": "markdown",
      "source": [
        "**Anova**"
      ],
      "metadata": {
        "id": "yP_kJcaXhCC9"
      }
    },
    {
      "cell_type": "code",
      "source": [
        "anova = f_classif(vectors, newsgroups_train.target)[0]\n",
        "print(anova)\n",
        "ascores = zip(vectorizer.get_feature_names_out(), anova)\n",
        "print(ascores)\n",
        "print(\"Anova Scores:\")\n",
        "asc = sorted(ascores, key=lambda x:x[1], reverse=True)\n",
        "for i in range(20):\n",
        "  print(asc[i])"
      ],
      "metadata": {
        "colab": {
          "base_uri": "https://localhost:8080/"
        },
        "id": "xIZMem_Yct4F",
        "outputId": "8a7e1313-05a5-43ec-94b2-46372e142b00"
      },
      "execution_count": 19,
      "outputs": [
        {
          "output_type": "stream",
          "name": "stdout",
          "text": [
            "[4.18427422 4.18380592 1.62229687 ... 0.80977825 0.80977825 1.65767294]\n",
            "<zip object at 0x7f4b3a71a840>\n",
            "Anova Scores:\n",
            "('thanks', 62.79685404745179)\n",
            "('hi', 47.936836481731625)\n",
            "('space', 31.89761590649267)\n",
            "('advance', 28.286035831641602)\n",
            "('orbit', 27.30216275449487)\n",
            "('christ', 27.24572163878179)\n",
            "('agree', 27.17352936492761)\n",
            "('say', 26.910524680375456)\n",
            "('christian', 26.577991593603347)\n",
            "('christians', 26.46442467256579)\n",
            "('vga', 25.793402747097826)\n",
            "('fact', 25.189140586267186)\n",
            "('people', 25.090558682171466)\n",
            "('kent', 24.669941573460623)\n",
            "('god', 23.451134235477326)\n",
            "('bible', 22.979619229999773)\n",
            "('flight', 22.666585696662853)\n",
            "('card', 21.913999014262398)\n",
            "('earth', 21.664469458399893)\n",
            "('appreciated', 21.60735197713781)\n"
          ]
        }
      ]
    },
    {
      "cell_type": "code",
      "source": [
        "import pandas as pd\n",
        "pd.DataFrame(data = [wchi2, ms, asc], index=[\"Chi2\", \"Mutual Information\", \"Anova\"]).T"
      ],
      "metadata": {
        "colab": {
          "base_uri": "https://localhost:8080/",
          "height": 423
        },
        "id": "v3j-O_BhnxFt",
        "outputId": "85468171-0243-49bc-9033-8b5b193bfa12"
      },
      "execution_count": 24,
      "outputs": [
        {
          "output_type": "execute_result",
          "data": {
            "text/plain": [
              "                                     Chi2  \\\n",
              "0             (space, 2114.3291993638345)   \n",
              "1             (image, 1002.3573689042399)   \n",
              "2          (graphics, 1000.3151101745898)   \n",
              "3                (god, 972.1333339908729)   \n",
              "4               (nasa, 739.6052005383311)   \n",
              "...                                   ...   \n",
              "26734  (requirement, 0.10189992834820985)   \n",
              "26735         (task, 0.09291617067725984)   \n",
              "26736     (accuracy, 0.08494945803459115)   \n",
              "26737        (count, 0.07797706262751433)   \n",
              "26738    (properly, 0.046496872631924986)   \n",
              "\n",
              "                          Mutual Information  \\\n",
              "0                (space, 0.1173236239203111)   \n",
              "1                 (god, 0.08240250725184692)   \n",
              "2            (graphics, 0.08049773882433058)   \n",
              "3                 (nasa, 0.0554899591549844)   \n",
              "4              (jesus, 0.053335197282894695)   \n",
              "...                                      ...   \n",
              "26734      (walking, 3.1892130978726074e-05)   \n",
              "26735      (wrapped, 3.1892130978726074e-05)   \n",
              "26736  (requirement, 2.6114265878325257e-05)   \n",
              "26737         (task, 2.2471348333280225e-05)   \n",
              "26738     (accuracy, 2.0358144542743928e-05)   \n",
              "\n",
              "                                    Anova  \n",
              "0             (thanks, 62.79685404745179)  \n",
              "1                (hi, 47.936836481731625)  \n",
              "2              (space, 31.89761590649267)  \n",
              "3           (advance, 28.286035831641602)  \n",
              "4              (orbit, 27.30216275449487)  \n",
              "...                                   ...  \n",
              "26734  (requirement, 0.03411962475817572)  \n",
              "26735         (task, 0.03112681568125329)  \n",
              "26736    (accuracy, 0.028415660157358046)  \n",
              "26737         (count, 0.0221537508328002)  \n",
              "26738    (properly, 0.009994583464995247)  \n",
              "\n",
              "[26739 rows x 3 columns]"
            ],
            "text/html": [
              "\n",
              "  <div id=\"df-0f275067-1c27-4ff0-830c-608db6575b60\">\n",
              "    <div class=\"colab-df-container\">\n",
              "      <div>\n",
              "<style scoped>\n",
              "    .dataframe tbody tr th:only-of-type {\n",
              "        vertical-align: middle;\n",
              "    }\n",
              "\n",
              "    .dataframe tbody tr th {\n",
              "        vertical-align: top;\n",
              "    }\n",
              "\n",
              "    .dataframe thead th {\n",
              "        text-align: right;\n",
              "    }\n",
              "</style>\n",
              "<table border=\"1\" class=\"dataframe\">\n",
              "  <thead>\n",
              "    <tr style=\"text-align: right;\">\n",
              "      <th></th>\n",
              "      <th>Chi2</th>\n",
              "      <th>Mutual Information</th>\n",
              "      <th>Anova</th>\n",
              "    </tr>\n",
              "  </thead>\n",
              "  <tbody>\n",
              "    <tr>\n",
              "      <th>0</th>\n",
              "      <td>(space, 2114.3291993638345)</td>\n",
              "      <td>(space, 0.1173236239203111)</td>\n",
              "      <td>(thanks, 62.79685404745179)</td>\n",
              "    </tr>\n",
              "    <tr>\n",
              "      <th>1</th>\n",
              "      <td>(image, 1002.3573689042399)</td>\n",
              "      <td>(god, 0.08240250725184692)</td>\n",
              "      <td>(hi, 47.936836481731625)</td>\n",
              "    </tr>\n",
              "    <tr>\n",
              "      <th>2</th>\n",
              "      <td>(graphics, 1000.3151101745898)</td>\n",
              "      <td>(graphics, 0.08049773882433058)</td>\n",
              "      <td>(space, 31.89761590649267)</td>\n",
              "    </tr>\n",
              "    <tr>\n",
              "      <th>3</th>\n",
              "      <td>(god, 972.1333339908729)</td>\n",
              "      <td>(nasa, 0.0554899591549844)</td>\n",
              "      <td>(advance, 28.286035831641602)</td>\n",
              "    </tr>\n",
              "    <tr>\n",
              "      <th>4</th>\n",
              "      <td>(nasa, 739.6052005383311)</td>\n",
              "      <td>(jesus, 0.053335197282894695)</td>\n",
              "      <td>(orbit, 27.30216275449487)</td>\n",
              "    </tr>\n",
              "    <tr>\n",
              "      <th>...</th>\n",
              "      <td>...</td>\n",
              "      <td>...</td>\n",
              "      <td>...</td>\n",
              "    </tr>\n",
              "    <tr>\n",
              "      <th>26734</th>\n",
              "      <td>(requirement, 0.10189992834820985)</td>\n",
              "      <td>(walking, 3.1892130978726074e-05)</td>\n",
              "      <td>(requirement, 0.03411962475817572)</td>\n",
              "    </tr>\n",
              "    <tr>\n",
              "      <th>26735</th>\n",
              "      <td>(task, 0.09291617067725984)</td>\n",
              "      <td>(wrapped, 3.1892130978726074e-05)</td>\n",
              "      <td>(task, 0.03112681568125329)</td>\n",
              "    </tr>\n",
              "    <tr>\n",
              "      <th>26736</th>\n",
              "      <td>(accuracy, 0.08494945803459115)</td>\n",
              "      <td>(requirement, 2.6114265878325257e-05)</td>\n",
              "      <td>(accuracy, 0.028415660157358046)</td>\n",
              "    </tr>\n",
              "    <tr>\n",
              "      <th>26737</th>\n",
              "      <td>(count, 0.07797706262751433)</td>\n",
              "      <td>(task, 2.2471348333280225e-05)</td>\n",
              "      <td>(count, 0.0221537508328002)</td>\n",
              "    </tr>\n",
              "    <tr>\n",
              "      <th>26738</th>\n",
              "      <td>(properly, 0.046496872631924986)</td>\n",
              "      <td>(accuracy, 2.0358144542743928e-05)</td>\n",
              "      <td>(properly, 0.009994583464995247)</td>\n",
              "    </tr>\n",
              "  </tbody>\n",
              "</table>\n",
              "<p>26739 rows × 3 columns</p>\n",
              "</div>\n",
              "      <button class=\"colab-df-convert\" onclick=\"convertToInteractive('df-0f275067-1c27-4ff0-830c-608db6575b60')\"\n",
              "              title=\"Convert this dataframe to an interactive table.\"\n",
              "              style=\"display:none;\">\n",
              "        \n",
              "  <svg xmlns=\"http://www.w3.org/2000/svg\" height=\"24px\"viewBox=\"0 0 24 24\"\n",
              "       width=\"24px\">\n",
              "    <path d=\"M0 0h24v24H0V0z\" fill=\"none\"/>\n",
              "    <path d=\"M18.56 5.44l.94 2.06.94-2.06 2.06-.94-2.06-.94-.94-2.06-.94 2.06-2.06.94zm-11 1L8.5 8.5l.94-2.06 2.06-.94-2.06-.94L8.5 2.5l-.94 2.06-2.06.94zm10 10l.94 2.06.94-2.06 2.06-.94-2.06-.94-.94-2.06-.94 2.06-2.06.94z\"/><path d=\"M17.41 7.96l-1.37-1.37c-.4-.4-.92-.59-1.43-.59-.52 0-1.04.2-1.43.59L10.3 9.45l-7.72 7.72c-.78.78-.78 2.05 0 2.83L4 21.41c.39.39.9.59 1.41.59.51 0 1.02-.2 1.41-.59l7.78-7.78 2.81-2.81c.8-.78.8-2.07 0-2.86zM5.41 20L4 18.59l7.72-7.72 1.47 1.35L5.41 20z\"/>\n",
              "  </svg>\n",
              "      </button>\n",
              "      \n",
              "  <style>\n",
              "    .colab-df-container {\n",
              "      display:flex;\n",
              "      flex-wrap:wrap;\n",
              "      gap: 12px;\n",
              "    }\n",
              "\n",
              "    .colab-df-convert {\n",
              "      background-color: #E8F0FE;\n",
              "      border: none;\n",
              "      border-radius: 50%;\n",
              "      cursor: pointer;\n",
              "      display: none;\n",
              "      fill: #1967D2;\n",
              "      height: 32px;\n",
              "      padding: 0 0 0 0;\n",
              "      width: 32px;\n",
              "    }\n",
              "\n",
              "    .colab-df-convert:hover {\n",
              "      background-color: #E2EBFA;\n",
              "      box-shadow: 0px 1px 2px rgba(60, 64, 67, 0.3), 0px 1px 3px 1px rgba(60, 64, 67, 0.15);\n",
              "      fill: #174EA6;\n",
              "    }\n",
              "\n",
              "    [theme=dark] .colab-df-convert {\n",
              "      background-color: #3B4455;\n",
              "      fill: #D2E3FC;\n",
              "    }\n",
              "\n",
              "    [theme=dark] .colab-df-convert:hover {\n",
              "      background-color: #434B5C;\n",
              "      box-shadow: 0px 1px 3px 1px rgba(0, 0, 0, 0.15);\n",
              "      filter: drop-shadow(0px 1px 2px rgba(0, 0, 0, 0.3));\n",
              "      fill: #FFFFFF;\n",
              "    }\n",
              "  </style>\n",
              "\n",
              "      <script>\n",
              "        const buttonEl =\n",
              "          document.querySelector('#df-0f275067-1c27-4ff0-830c-608db6575b60 button.colab-df-convert');\n",
              "        buttonEl.style.display =\n",
              "          google.colab.kernel.accessAllowed ? 'block' : 'none';\n",
              "\n",
              "        async function convertToInteractive(key) {\n",
              "          const element = document.querySelector('#df-0f275067-1c27-4ff0-830c-608db6575b60');\n",
              "          const dataTable =\n",
              "            await google.colab.kernel.invokeFunction('convertToInteractive',\n",
              "                                                     [key], {});\n",
              "          if (!dataTable) return;\n",
              "\n",
              "          const docLinkHtml = 'Like what you see? Visit the ' +\n",
              "            '<a target=\"_blank\" href=https://colab.research.google.com/notebooks/data_table.ipynb>data table notebook</a>'\n",
              "            + ' to learn more about interactive tables.';\n",
              "          element.innerHTML = '';\n",
              "          dataTable['output_type'] = 'display_data';\n",
              "          await google.colab.output.renderOutput(dataTable, element);\n",
              "          const docLink = document.createElement('div');\n",
              "          docLink.innerHTML = docLinkHtml;\n",
              "          element.appendChild(docLink);\n",
              "        }\n",
              "      </script>\n",
              "    </div>\n",
              "  </div>\n",
              "  "
            ]
          },
          "metadata": {},
          "execution_count": 24
        }
      ]
    },
    {
      "cell_type": "markdown",
      "source": [
        "The top 20 words using anova appear to be signifanctly different from the lists using chi2 and mutual information"
      ],
      "metadata": {
        "id": "EE2cIhD4nehL"
      }
    },
    {
      "cell_type": "markdown",
      "source": [
        "Question #2: Does using feature features help or hurt the performance of the model? Note that we have a lot of features here!  Try making a graph of the performance (f1 or whatever) with the top 1000...27000 (about) features."
      ],
      "metadata": {
        "id": "LNuGUQv9siyn"
      }
    },
    {
      "cell_type": "markdown",
      "source": [
        "I will be using the top words acheived by the anova classifier"
      ],
      "metadata": {
        "id": "zkiY1zLio6io"
      }
    },
    {
      "cell_type": "code",
      "source": [
        "n_features = list(range(1000, 27000, 1000))\n",
        "f1_scores = []\n",
        "for n in n_features:\n",
        "    words = asc[:n]\n",
        "    vocab = list(zip(*words))[0]\n",
        "    vectorizer = TfidfVectorizer(vocabulary=vocab)\n",
        "    vectors = vectorizer.fit_transform(newsgroups_train.data)\n",
        "    targets = newsgroups_train.target\n",
        "    vectors_test = vectorizer.transform(newsgroups_test.data)\n",
        "    model = MultinomialNB(alpha=.01)\n",
        "    model.fit(vectors, targets)\n",
        "    pred = model.predict(vectors_test)\n",
        "    f1 = metrics.f1_score(newsgroups_test.target, pred, average='macro')\n",
        "    f1_scores.append(f1)\n",
        "\n",
        "plt.plot(n_features, f1_scores)\n",
        "plt.xlabel(\"Number of features\")\n",
        "plt.ylabel(\"F1 Score\")\n",
        "plt.show()"
      ],
      "metadata": {
        "colab": {
          "base_uri": "https://localhost:8080/",
          "height": 279
        },
        "id": "pArZdWWn26JQ",
        "outputId": "a72c81f8-b458-45e8-8b22-56b588e1081c"
      },
      "execution_count": 28,
      "outputs": [
        {
          "output_type": "display_data",
          "data": {
            "text/plain": [
              "<Figure size 432x288 with 1 Axes>"
            ],
            "image/png": "[encoded data removed]"
          },
          "metadata": {
            "needs_background": "light"
          }
        }
      ]
    },
    {
      "cell_type": "markdown",
      "source": [
        "I have a similar file with a different dataset here:\n",
        "https://colab.research.google.com/drive/1ArYAcpSMiYEDe08uXh1SYyeo-uMEURFf?usp=sharing "
      ],
      "metadata": {
        "id": "f9l0cCcpzRh7"
      }
    },
    {
      "cell_type": "markdown",
      "source": [
        "Question #3: Does adding stemming help?  How about taking out special formatting?  How about making everything lower_case?\n",
        "Some nice examples of similar projects exist at:\n",
        " https://krakensystems.co/blog/2018/text-classification and \n",
        " \n",
        "https://github.com/screddy1313/Text-Classification-with-20news-dataset/blob/master/code/MultiClassNB.ipynb. \n",
        " \n",
        "Hint: try things like: \n",
        " \n",
        "CountVectorizer(lowercase=True,stop_words=stopwords)"
      ],
      "metadata": {
        "id": "VfQRAH8Ezzse"
      }
    },
    {
      "cell_type": "code",
      "source": [
        "# Note: taken from https://krakensystems.co/blog/2018/text-classification\n",
        "from nltk.stem import PorterStemmer\n",
        "from nltk import word_tokenize\n",
        "nltk.download('punkt')\n",
        "\n",
        "def stemming_tokenizer(text):\n",
        "    stemmer = PorterStemmer()\n",
        "    return [stemmer.stem(w) for w in word_tokenize(text)]"
      ],
      "metadata": {
        "colab": {
          "base_uri": "https://localhost:8080/"
        },
        "id": "d67pUCblQVxL",
        "outputId": "7ff15ac2-6519-41bf-e54b-1cf1d27c166f"
      },
      "execution_count": 29,
      "outputs": [
        {
          "output_type": "stream",
          "name": "stderr",
          "text": [
            "[nltk_data] Downloading package punkt to /root/nltk_data...\n",
            "[nltk_data]   Unzipping tokenizers/punkt.zip.\n"
          ]
        }
      ]
    },
    {
      "cell_type": "code",
      "source": [
        "n_features = list(range(1000, 27000, 1000))\n",
        "f1_scores = []\n",
        "for n in n_features:\n",
        "    words = asc[:n]\n",
        "    vocab = list(zip(*words))[0]\n",
        "    vectorizer = TfidfVectorizer(vocabulary=vocab, stop_words=stopwords)\n",
        "    # vectorizer = TfidfVectorizer(vocabulary=vocab, stop_words=stopwords, tokenizer=stemming_tokenizer)\n",
        "    # vectorizer = CountVectorizer(vocabulary=vocab)\n",
        "    vectors = vectorizer.fit_transform(newsgroups_train.data)\n",
        "    targets = newsgroups_train.target\n",
        "    vectors_test = vectorizer.transform(newsgroups_test.data)\n",
        "    model = MultinomialNB(alpha=.01)\n",
        "    model.fit(vectors, targets)\n",
        "    pred = model.predict(vectors_test)\n",
        "    f1 = metrics.f1_score(newsgroups_test.target, pred, average='macro')\n",
        "    f1_scores.append(f1)\n",
        "\n",
        "plt.plot(n_features, f1_scores)\n",
        "plt.xlabel(\"Number of features\")\n",
        "plt.ylabel(\"F1 Score\")\n",
        "plt.show()"
      ],
      "metadata": {
        "id": "AN-Yqkml0fIU",
        "colab": {
          "base_uri": "https://localhost:8080/",
          "height": 279
        },
        "outputId": "62dfb3e9-1a31-4408-a5d8-3bf5c164ccfd"
      },
      "execution_count": 30,
      "outputs": [
        {
          "output_type": "display_data",
          "data": {
            "text/plain": [
              "<Figure size 432x288 with 1 Axes>"
            ],
            "image/png": "[encoded data removed]"
          },
          "metadata": {
            "needs_background": "light"
          }
        }
      ]
    },
    {
      "cell_type": "markdown",
      "source": [
        "Most of the changes I tried did not make much of a difference. However, when I tried changing the normalization from l2 to l1, as the number of features got larger the model performed significantly worse. Using a count vectorizer made it perform slightly worse. Setting the parameters to adjust lowercase, stripping accents, binary (\"sets all non-zero term count to 1\") even lemmatizing, all didn't help, but also didn't significantly hurt, the f1 score.\n"
      ],
      "metadata": {
        "id": "-tAHOGbl6Xba"
      }
    },
    {
      "cell_type": "markdown",
      "source": [
        "Question #4: Does using a different learning model, like Random Forest help?  Note that Random Forest is slower, so you might want to try it with fewer features!\n",
        "\n",
        "Try to understand the code at:\n",
        "https://scikit-learn.org/stable/auto_examples/text/plot_document_classification_20newsgroups.html#sphx-glr-auto-examples-text-plot-document-classification-20newsgroups-py\n",
        "\n",
        "I once made up a simpler example for the Iris dataset at:\n",
        "\n",
        "https://colab.research.google.com/drive/1XdShFSTiQqYPPTeBxQ2HcfwqHiyxXoBa?usp=sharing\n"
      ],
      "metadata": {
        "id": "_k0YEEtI074K"
      }
    },
    {
      "cell_type": "code",
      "source": [
        "from sklearn.ensemble import RandomForestClassifier"
      ],
      "metadata": {
        "id": "SBsHCHCnUdDK"
      },
      "execution_count": 32,
      "outputs": []
    },
    {
      "cell_type": "code",
      "source": [
        "n_features = list(range(1000, 27000, 1000))\n",
        "f1_scores = []\n",
        "for n in n_features:\n",
        "    words = asc[:n]\n",
        "    vocab = list(zip(*words))[0]\n",
        "    vectorizer = TfidfVectorizer(vocabulary=vocab, stop_words=stopwords)\n",
        "    # vectorizer = TfidfVectorizer(vocabulary=vocab, stop_words=stopwords, tokenizer=stemming_tokenizer)\n",
        "    # vectorizer = CountVectorizer(vocabulary=vocab)\n",
        "    vectors = vectorizer.fit_transform(newsgroups_train.data)\n",
        "    targets = newsgroups_train.target\n",
        "    vectors_test = vectorizer.transform(newsgroups_test.data)\n",
        "    # model = MultinomialNB(alpha=.01)\n",
        "    model = RandomForestClassifier(n_estimators=100, criterion='entropy')\n",
        "    model.fit(vectors, targets)\n",
        "    pred = model.predict(vectors_test)\n",
        "    f1 = metrics.f1_score(newsgroups_test.target, pred, average='macro')\n",
        "    f1_scores.append(f1)\n",
        "\n",
        "plt.plot(n_features, f1_scores)\n",
        "plt.xlabel(\"Number of features\")\n",
        "plt.ylabel(\"F1 Score\")\n",
        "plt.show()"
      ],
      "metadata": {
        "id": "rsGlockJ1I0Q",
        "colab": {
          "base_uri": "https://localhost:8080/",
          "height": 279
        },
        "outputId": "ad7cab61-f8bd-4007-a800-cb082f8cf31a"
      },
      "execution_count": 33,
      "outputs": [
        {
          "output_type": "display_data",
          "data": {
            "text/plain": [
              "<Figure size 432x288 with 1 Axes>"
            ],
            "image/png": "[encoded data removed]"
          },
          "metadata": {
            "needs_background": "light"
          }
        }
      ]
    },
    {
      "cell_type": "markdown",
      "source": [
        "Using a Random Forrest Classifier, instead of the Multinomial Naive Bayes model, actually made the model do worse, even after changing the criterion from gini to entropy"
      ],
      "metadata": {
        "id": "fvU09R6JXtlU"
      }
    },
    {
      "cell_type": "code",
      "source": [
        "from sklearn.neighbors import KNeighborsClassifier\n",
        "n_features = list(range(1000, 27000, 1000))\n",
        "f1_scores = []\n",
        "for n in n_features:\n",
        "    words = asc[:n]\n",
        "    vocab = list(zip(*words))[0]\n",
        "    vectorizer = TfidfVectorizer(vocabulary=vocab, stop_words=stopwords)\n",
        "    # vectorizer = TfidfVectorizer(vocabulary=vocab, stop_words=stopwords, tokenizer=stemming_tokenizer)\n",
        "    # vectorizer = CountVectorizer(vocabulary=vocab)\n",
        "    vectors = vectorizer.fit_transform(newsgroups_train.data)\n",
        "    targets = newsgroups_train.target\n",
        "    vectors_test = vectorizer.transform(newsgroups_test.data)\n",
        "    # model = MultinomialNB(alpha=.01)\n",
        "    model = KNeighborsClassifier(n_neighbors=3)\n",
        "    model.fit(vectors, targets)\n",
        "    pred = model.predict(vectors_test)\n",
        "    f1 = metrics.f1_score(newsgroups_test.target, pred, average='macro')\n",
        "    f1_scores.append(f1)\n",
        "\n",
        "plt.plot(n_features, f1_scores)\n",
        "plt.xlabel(\"Number of features\")\n",
        "plt.ylabel(\"F1 Score\")\n",
        "plt.show()"
      ],
      "metadata": {
        "colab": {
          "base_uri": "https://localhost:8080/",
          "height": 279
        },
        "id": "LUP-btEzpm1v",
        "outputId": "e3f0af7d-8530-4cf9-a1e5-1603a3bdc51b"
      },
      "execution_count": 37,
      "outputs": [
        {
          "output_type": "display_data",
          "data": {
            "text/plain": [
              "<Figure size 432x288 with 1 Axes>"
            ],
            "image/png": "[encoded data removed]"
          },
          "metadata": {
            "needs_background": "light"
          }
        }
      ]
    },
    {
      "cell_type": "markdown",
      "source": [
        "Using K-Neighbors classifier performed horribly whether using 3, 5, or 30 nearest neighbors"
      ],
      "metadata": {
        "id": "MywjFP2aqLI8"
      }
    },
    {
      "cell_type": "markdown",
      "source": [
        "Question #5: Challenge Question (not needed for next week):\n",
        "\n",
        "What were the words that are special to each of the categories:\n",
        "['alt.atheism', 'talk.religion.misc', 'comp.graphics', 'sci.space']\n",
        "Note that the CHI2 and other rankings are GLOBAL.  I would like to see the important words within each of the categories.  This is the difference between Mutual Information (MI) and Pointwise Mutual Information (PMI).  \n",
        "Hint: you might want to do some preprocessing. We’ll discuss in class."
      ],
      "metadata": {
        "id": "Woz1_6fx00KB"
      }
    },
    {
      "cell_type": "code",
      "source": [
        "#Enter code here"
      ],
      "metadata": {
        "id": "I_sNNry-2DQJ"
      },
      "execution_count": null,
      "outputs": []
    }
  ],
  "metadata": {
    "kernelspec": {
      "display_name": "Python 3",
      "language": "python",
      "name": "python3"
    },
    "language_info": {
      "codemirror_mode": {
        "name": "ipython",
        "version": 3
      },
      "file_extension": ".py",
      "mimetype": "text/x-python",
      "name": "python",
      "nbconvert_exporter": "python",
      "pygments_lexer": "ipython3",
      "version": "3.8.3"
    },
    "colab": {
      "provenance": [],
      "include_colab_link": true
    }
  },
  "nbformat": 4,
  "nbformat_minor": 0
}