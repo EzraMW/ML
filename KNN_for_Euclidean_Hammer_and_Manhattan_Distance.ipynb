{
  "nbformat": 4,
  "nbformat_minor": 0,
  "metadata": {
    "colab": {
      "provenance": [],
      "include_colab_link": true
    },
    "kernelspec": {
      "name": "python3",
      "display_name": "Python 3"
    },
    "language_info": {
      "name": "python"
    }
  },
  "cells": [
    {
      "cell_type": "markdown",
      "metadata": {
        "id": "view-in-github",
        "colab_type": "text"
      },
      "source": [
        "<a href=\"https://colab.research.google.com/github/EzraMW/ML/blob/main/KNN_for_Euclidean_Hammer_and_Manhattan_Distance.ipynb\" target=\"_parent\"><img src=\"https://colab.research.google.com/assets/colab-badge.svg\" alt=\"Open In Colab\"/></a>"
      ]
    },
    {
      "cell_type": "markdown",
      "metadata": {
        "id": "PELNEMlpx2Ri"
      },
      "source": [
        "Import the libraries math (for square root and absolute value) and pandas and numpy for reading csv files."
      ]
    },
    {
      "cell_type": "code",
      "metadata": {
        "id": "mkYTODtExydl"
      },
      "source": [
        "import math\n",
        "import pandas as pd\n",
        "import numpy as np"
      ],
      "execution_count": 1,
      "outputs": []
    },
    {
      "cell_type": "markdown",
      "metadata": {
        "id": "zCgb1pGFx8od"
      },
      "source": [
        "Make an untagged vector, point, and two tagged vectors, data1 and data2:"
      ]
    },
    {
      "cell_type": "code",
      "metadata": {
        "id": "Ifbww56byViT"
      },
      "source": [
        "point = [1, 0, 0, '?'] #(an unknown tag)\n",
        "data1 = [1, 1, 1, 'M']\n",
        "data2 = [1, 3, 0, 'F']\n"
      ],
      "execution_count": 2,
      "outputs": []
    },
    {
      "cell_type": "markdown",
      "metadata": {
        "id": "2hiHzqnsyhW2"
      },
      "source": [
        "Write code to separate the data (X) from the tag (Y).  Your output should be:\n",
        "\n",
        "The vector [1, 1, 1] has tag M\n",
        "\n",
        "The vector [1, 3, 0] has tag F\n"
      ]
    },
    {
      "cell_type": "code",
      "metadata": {
        "id": "CdgKt99HyaKT",
        "colab": {
          "base_uri": "https://localhost:8080/"
        },
        "outputId": "ba1ce734-af7c-4f53-cafe-9c035623e9f0"
      },
      "source": [
        "print(\"The vector \" , data1[0:-1], \" has tag \", data1[-1])"
      ],
      "execution_count": 3,
      "outputs": [
        {
          "output_type": "stream",
          "name": "stdout",
          "text": [
            "The vector  [1, 1, 1]  has tag  M\n"
          ]
        }
      ]
    },
    {
      "cell_type": "markdown",
      "metadata": {
        "id": "Nknnav39yb8C"
      },
      "source": [
        "Now let's classify the point as either M or F.  We'll do this by setting k = 1 and using the Euclidean distance.  We'll define that as: "
      ]
    },
    {
      "cell_type": "code",
      "metadata": {
        "id": "gT0HxYoxzG_-"
      },
      "source": [
        "def euclideanDistance(instance1, instance2, length):\n",
        "   distance = 0\n",
        "   for x in range(length):\n",
        "         #print ('x is ' , x)\n",
        "         num1=float(instance1[x])\n",
        "         num2=float(instance2[x])\n",
        "         distance = distance + pow(num1-num2, 2)\n",
        "   return math.sqrt(distance)\n"
      ],
      "execution_count": 4,
      "outputs": []
    },
    {
      "cell_type": "markdown",
      "metadata": {
        "id": "RhO3w2O4zKG8"
      },
      "source": [
        "Now, find out the distance between data1 and point and data2 and point. Output what the tag should be using euclideanDistance."
      ]
    },
    {
      "cell_type": "code",
      "metadata": {
        "id": "rzHsm2KezPie",
        "colab": {
          "base_uri": "https://localhost:8080/"
        },
        "outputId": "b7a8f3a7-85b1-4b99-fff4-5c4fe16ca1dc"
      },
      "source": [
        "dist1 = euclideanDistance(data1,point,3)\n",
        "dist2 = euclideanDistance(data2,point,3)\n",
        "tag = '?'\n",
        "if dist1 > dist2:\n",
        "  tag = data2[-1]\n",
        "else:\n",
        "  tag = data1[-1]\n",
        "print(\"Predicted Tag based on Euclidean Distance is: \", tag)"
      ],
      "execution_count": 5,
      "outputs": [
        {
          "output_type": "stream",
          "name": "stdout",
          "text": [
            "Predicted Tag based on Euclidean Distance is:  M\n"
          ]
        }
      ]
    },
    {
      "cell_type": "markdown",
      "metadata": {
        "id": "bImk9yPazRCS"
      },
      "source": [
        "Now, let's get more data from a file, myFile.csv. This code will read it for us:"
      ]
    },
    {
      "cell_type": "code",
      "metadata": {
        "id": "xeInyfvYzbKj",
        "colab": {
          "base_uri": "https://localhost:8080/"
        },
        "outputId": "47722a13-d828-4248-cbc3-cae8f1c170c8"
      },
      "source": [
        "url = 'https://github.com/rosenfa/ai/blob/master/myFile.csv?raw=true'\n",
        "df=pd.read_csv(url,  header=0, error_bad_lines=False) \n",
        "#put data in dataset without header line\n",
        "dataset = np.array(df)"
      ],
      "execution_count": 6,
      "outputs": [
        {
          "output_type": "stream",
          "name": "stderr",
          "text": [
            "/usr/local/lib/python3.7/dist-packages/IPython/core/interactiveshell.py:3326: FutureWarning: The error_bad_lines argument has been deprecated and will be removed in a future version.\n",
            "\n",
            "\n",
            "  exec(code_obj, self.user_global_ns, self.user_ns)\n"
          ]
        }
      ]
    },
    {
      "cell_type": "markdown",
      "metadata": {
        "id": "X_1JLdAEzdhu"
      },
      "source": [
        "Show that you understand what you read by:\n",
        "\n",
        "1. Printing the first two vectors in the file\n",
        "2. Printing the Euclidean distance between those two vectors\n",
        "\n",
        "Here is some code which I think might help get you on your way!"
      ]
    },
    {
      "cell_type": "code",
      "metadata": {
        "id": "e4QT_37TzuWr",
        "colab": {
          "base_uri": "https://localhost:8080/"
        },
        "outputId": "b16cd05c-9bde-46f6-d749-04747e6ad193"
      },
      "source": [
        "# print(len(dataset))\n",
        "print(dataset[0][0:-1], dataset[1][0:-1])\n",
        "print(euclideanDistance(dataset[0],dataset[1],3))"
      ],
      "execution_count": 7,
      "outputs": [
        {
          "output_type": "stream",
          "name": "stdout",
          "text": [
            "[0 1 2] [1 5 6]\n",
            "5.744562646538029\n"
          ]
        }
      ]
    },
    {
      "cell_type": "markdown",
      "metadata": {
        "id": "Mw03nhZuEyUw"
      },
      "source": [
        "Now assume you have a new value for point:\n",
        "\n",
        "[0,0,100]\n",
        "\n",
        "How would you classify this vector using the Euclidean distance function given all of the vectors in the file?\n",
        "\n",
        "In order to help here is a hint:  \n",
        "\n",
        "We suggest defining some type of data struction to store different vectors' distances and their tags like this:"
      ]
    },
    {
      "cell_type": "code",
      "source": [
        "new_vector = [0,0,100,'?']"
      ],
      "metadata": {
        "id": "xnbCzqf7Hwks"
      },
      "execution_count": 8,
      "outputs": []
    },
    {
      "cell_type": "code",
      "metadata": {
        "id": "oh8ym0_SE7Rb"
      },
      "source": [
        "class distClass:\n",
        "    dist = -1 #distance of current point from test point\n",
        "    tag = '-' #tag of current point\n"
      ],
      "execution_count": 9,
      "outputs": []
    },
    {
      "cell_type": "markdown",
      "metadata": {
        "id": "-KZR5lxOFP2v"
      },
      "source": [
        "You can then add vector distances like this:"
      ]
    },
    {
      "cell_type": "code",
      "source": [
        "eucDistances = [] # list of distances, will hold objects of type distClass\n",
        "\n",
        "for vector in dataset:\n",
        "  # data = vector[0:-1]\n",
        "  label = vector[-1]\n",
        "  dist = euclideanDistance(new_vector, vector, 3)\n",
        "  obj = distClass()\n",
        "  obj.dist = dist\n",
        "  obj.tag = label\n",
        "  eucDistances.append(obj)"
      ],
      "metadata": {
        "id": "RrRpg78sIExF"
      },
      "execution_count": 10,
      "outputs": []
    },
    {
      "cell_type": "code",
      "source": [
        "for i in eucDistances:\n",
        "  print(f\"Distance: {i.dist}. Tag: {i.tag}\")"
      ],
      "metadata": {
        "colab": {
          "base_uri": "https://localhost:8080/"
        },
        "id": "RIWQd5ONJSHX",
        "outputId": "b10e9044-9d57-42cd-f236-91d15a98b842"
      },
      "execution_count": 11,
      "outputs": [
        {
          "output_type": "stream",
          "name": "stdout",
          "text": [
            "Distance: 98.00510190801293. Tag: F\n",
            "Distance: 94.13819628609845. Tag: F\n",
            "Distance: 106.78014796768171. Tag: M\n",
            "Distance: 98.04080783020915. Tag: F\n",
            "Distance: 80.00624975587844. Tag: M\n",
            "Distance: 94.13819628609845. Tag: M\n",
            "Distance: 99.08582138732059. Tag: M\n",
            "Distance: 100.45894683899488. Tag: F\n",
            "Distance: 100.68266980965493. Tag: M\n",
            "Distance: 100.91580649234291. Tag: M\n"
          ]
        }
      ]
    },
    {
      "cell_type": "code",
      "metadata": {
        "colab": {
          "base_uri": "https://localhost:8080/"
        },
        "id": "OTJBcLSJa8SR",
        "outputId": "e63c69ab-056a-472a-869f-762a503f1aa1"
      },
      "source": [
        "print(f\"Distance: {eucDistances[0].dist}. Tag: {eucDistances[0].tag}\")"
      ],
      "execution_count": 12,
      "outputs": [
        {
          "output_type": "stream",
          "name": "stdout",
          "text": [
            "Distance: 98.00510190801293. Tag: F\n"
          ]
        }
      ]
    },
    {
      "cell_type": "markdown",
      "metadata": {
        "id": "67seTigUFbW7"
      },
      "source": [
        "and sort them like this:"
      ]
    },
    {
      "cell_type": "code",
      "metadata": {
        "id": "J0rEdJXKFctw"
      },
      "source": [
        "eucDistances.sort(key=lambda x: x.dist) "
      ],
      "execution_count": 13,
      "outputs": []
    },
    {
      "cell_type": "code",
      "source": [
        "def print_dist(distances):\n",
        "  for i in distances:\n",
        "    print(f\"Distance: {i.dist}. Tag: {i.tag}\")"
      ],
      "metadata": {
        "id": "x8WgeCDCGKMp"
      },
      "execution_count": 14,
      "outputs": []
    },
    {
      "cell_type": "code",
      "source": [
        "print_dist(eucDistances)"
      ],
      "metadata": {
        "colab": {
          "base_uri": "https://localhost:8080/"
        },
        "id": "b7mzQ15eJ6XU",
        "outputId": "993eaad9-40ba-4be0-eb3d-c84aec5755fb"
      },
      "execution_count": 15,
      "outputs": [
        {
          "output_type": "stream",
          "name": "stdout",
          "text": [
            "Distance: 80.00624975587844. Tag: M\n",
            "Distance: 94.13819628609845. Tag: F\n",
            "Distance: 94.13819628609845. Tag: M\n",
            "Distance: 98.00510190801293. Tag: F\n",
            "Distance: 98.04080783020915. Tag: F\n",
            "Distance: 99.08582138732059. Tag: M\n",
            "Distance: 100.45894683899488. Tag: F\n",
            "Distance: 100.68266980965493. Tag: M\n",
            "Distance: 100.91580649234291. Tag: M\n",
            "Distance: 106.78014796768171. Tag: M\n"
          ]
        }
      ]
    },
    {
      "cell_type": "markdown",
      "metadata": {
        "id": "eWzp7vM9FgLm"
      },
      "source": [
        "Questions:\n",
        "\n",
        "1. What is the label for point if k=1?\n",
        "2. What is the label for point if k=3?\n",
        "3. Would the result be different if we used a different distance function like Hamming or Manhattan?"
      ]
    },
    {
      "cell_type": "code",
      "source": [
        "def knn_mf(k, sorted_distances):\n",
        "  closest = sorted_distances[:k]\n",
        "  m = 0\n",
        "  f = 0\n",
        "  for point in closest:\n",
        "    # print(point.tag)\n",
        "    if point.tag == 'M':\n",
        "      m += 1\n",
        "    else:\n",
        "      f += 1\n",
        "  if m > f:\n",
        "    return 'M'\n",
        "  else: \n",
        "    return 'F'"
      ],
      "metadata": {
        "id": "U3M8A8jCBIJ2"
      },
      "execution_count": 16,
      "outputs": []
    },
    {
      "cell_type": "code",
      "source": [
        "# for k=1, we assume the label is the same as the closest point\n",
        "k1_euc = eucDistances[0].tag\n",
        "print(f\"Label for {new_vector[0:-1]} is predicted as {k1_euc} with k=1\")\n",
        "# for k=3, we predict the label as the label which the majority of the 3 closest points\n",
        "k3_euc = knn_mf(3, eucDistances)\n",
        "print(f\"Label for {new_vector[0:-1]} is predicted as {k3_euc} with k=3\")"
      ],
      "metadata": {
        "colab": {
          "base_uri": "https://localhost:8080/"
        },
        "id": "UWeBV5FGJwgF",
        "outputId": "f5f22551-b504-44da-b334-4bd85ed08eee"
      },
      "execution_count": 17,
      "outputs": [
        {
          "output_type": "stream",
          "name": "stdout",
          "text": [
            "Label for [0, 0, 100] is predicted as M with k=1\n",
            "Label for [0, 0, 100] is predicted as M with k=3\n"
          ]
        }
      ]
    },
    {
      "cell_type": "code",
      "source": [
        "# The Hamming Distance is simply the number of different corrosponding elements between the two vectors as defined here (https://en.wikipedia.org/wiki/Hamming_distance)\n",
        "def hammingDistance(instance1, instance2):\n",
        "  diff = 0\n",
        "  for i in range(len(instance1)-1):\n",
        "    if instance1[i] != instance2[i]:\n",
        "      diff += 1\n",
        "  return diff"
      ],
      "metadata": {
        "id": "tMp_pNJKf1r9"
      },
      "execution_count": 40,
      "outputs": []
    },
    {
      "cell_type": "code",
      "source": [
        "# The Manhattan Distance is the sum of the difference between two vectors\n",
        "def manhattanDistance(instance1, instance2):\n",
        "  diff = 0\n",
        "  for i in range(len(instance1)-1):\n",
        "    diff += abs(instance2[i] - instance1[i])\n",
        "  return diff"
      ],
      "metadata": {
        "id": "yAYs5jG1iJmg"
      },
      "execution_count": 19,
      "outputs": []
    },
    {
      "cell_type": "code",
      "source": [
        "vector1 = [0, 1, 2, 3, 'M']\n",
        "vector2 = [1, 1, 2, 5, 'F']\n",
        "print(\"Manhattan: \", manhattanDistance(vector1, vector2))\n",
        "print(\"Hamming: \", hammingDistance(vector1, vector2))\n",
        "print(\"Euclidian: \", euclideanDistance(vector1, vector2, 4))"
      ],
      "metadata": {
        "colab": {
          "base_uri": "https://localhost:8080/"
        },
        "id": "zzAmdmdIjsvC",
        "outputId": "9a83a51f-cb2e-4a05-8489-d0f0325068cd"
      },
      "execution_count": 20,
      "outputs": [
        {
          "output_type": "stream",
          "name": "stdout",
          "text": [
            "Manhattan:  3\n",
            "Hamming:  2\n",
            "Euclidian:  2.23606797749979\n"
          ]
        }
      ]
    },
    {
      "cell_type": "code",
      "metadata": {
        "id": "tbHJ5OS5GeCw"
      },
      "source": [
        "#Add code with functions that implement Hamming and Manhattan distances and test \n",
        "#what the label will be for k=1 and k=3 for all possibilities \n",
        "#(6 total: 2 Euclidean, 2 Hamming and 2 Manhattan)"
      ],
      "execution_count": 21,
      "outputs": []
    },
    {
      "cell_type": "code",
      "source": [
        "hammingDistances = [] \n",
        "\n",
        "for vector in dataset:\n",
        "  label = vector[-1]\n",
        "  dist = hammingDistance(new_vector, vector)\n",
        "  obj = distClass()\n",
        "  obj.dist = dist\n",
        "  obj.tag = label\n",
        "  hammingDistances.append(obj)"
      ],
      "metadata": {
        "id": "Yu_G6GyqCpsT"
      },
      "execution_count": 22,
      "outputs": []
    },
    {
      "cell_type": "code",
      "source": [
        "hammingDistances.sort(key=lambda x: x.dist) \n",
        "print(\"Sorted: \")\n",
        "print_dist(hammingDistances)"
      ],
      "metadata": {
        "colab": {
          "base_uri": "https://localhost:8080/"
        },
        "id": "WX8LaKD8CyYm",
        "outputId": "0f16cfcb-e07d-4d07-e3ed-63d273e531e7"
      },
      "execution_count": 23,
      "outputs": [
        {
          "output_type": "stream",
          "name": "stdout",
          "text": [
            "Sorted: \n",
            "Distance: 2. Tag: F\n",
            "Distance: 2. Tag: M\n",
            "Distance: 3. Tag: F\n",
            "Distance: 3. Tag: M\n",
            "Distance: 3. Tag: F\n",
            "Distance: 3. Tag: M\n",
            "Distance: 3. Tag: M\n",
            "Distance: 3. Tag: F\n",
            "Distance: 3. Tag: M\n",
            "Distance: 3. Tag: M\n"
          ]
        }
      ]
    },
    {
      "cell_type": "code",
      "source": [
        "k1_ham = knn_mf(1, hammingDistances)\n",
        "k3_ham = knn_mf(3, hammingDistances)\n",
        "print(k1_ham, k3_ham)"
      ],
      "metadata": {
        "colab": {
          "base_uri": "https://localhost:8080/"
        },
        "id": "sd38nk8cHSTA",
        "outputId": "550d153f-5f80-4f65-ac82-b09b39de9182"
      },
      "execution_count": 24,
      "outputs": [
        {
          "output_type": "stream",
          "name": "stdout",
          "text": [
            "F F\n"
          ]
        }
      ]
    },
    {
      "cell_type": "code",
      "source": [
        "manhattanDistances = [] \n",
        "\n",
        "for vector in dataset:\n",
        "  label = vector[-1]\n",
        "  dist = manhattanDistance(new_vector, vector)\n",
        "  obj = distClass()\n",
        "  obj.dist = dist\n",
        "  obj.tag = label\n",
        "  manhattanDistances.append(obj)"
      ],
      "metadata": {
        "id": "sY3uWfWvHlaj"
      },
      "execution_count": 25,
      "outputs": []
    },
    {
      "cell_type": "code",
      "source": [
        "manhattanDistances.sort(key=lambda x: x.dist) \n",
        "print(\"Sorted: \")\n",
        "print_dist(manhattanDistances)"
      ],
      "metadata": {
        "colab": {
          "base_uri": "https://localhost:8080/"
        },
        "id": "i9S3hdRVHuPK",
        "outputId": "b3a22429-778e-4382-f1c2-f20534064066"
      },
      "execution_count": 26,
      "outputs": [
        {
          "output_type": "stream",
          "name": "stdout",
          "text": [
            "Sorted: \n",
            "Distance: 81. Tag: M\n",
            "Distance: 99. Tag: F\n",
            "Distance: 100. Tag: F\n",
            "Distance: 100. Tag: M\n",
            "Distance: 102. Tag: F\n",
            "Distance: 104. Tag: M\n",
            "Distance: 122. Tag: F\n",
            "Distance: 123. Tag: M\n",
            "Distance: 124. Tag: M\n",
            "Distance: 140. Tag: M\n"
          ]
        }
      ]
    },
    {
      "cell_type": "code",
      "source": [
        "k1_man = knn_mf(1, manhattanDistances)\n",
        "k3_man = knn_mf(3, manhattanDistances)\n",
        "print(k1_man, k3_man)"
      ],
      "metadata": {
        "colab": {
          "base_uri": "https://localhost:8080/"
        },
        "id": "5QcyfCg-H26G",
        "outputId": "b08f5e44-ccf5-49ae-ed88-7513d967fadd"
      },
      "execution_count": 27,
      "outputs": [
        {
          "output_type": "stream",
          "name": "stdout",
          "text": [
            "M F\n"
          ]
        }
      ]
    },
    {
      "cell_type": "code",
      "source": [
        "# k = 1 for each distance type\n",
        "print(f\"Using k=1 and Euclidean Distance, the predicted label for {new_vector[0:-1]} is {k1_euc}\")\n",
        "print(f\"Using k=1 and Hamming Distance, the predicted label for {new_vector[0:-1]} is {k1_ham}\")\n",
        "print(f\"Using k=1 and Manhattan Distance, the predicted label for {new_vector[0:-1]} is {k1_man}\")\n",
        "# k = 3 for each distance type\n",
        "print(f\"Using k=3 and Euclidean Distance, the predicted label for {new_vector[0:-1]} is {k3_euc}\")\n",
        "print(f\"Using k=3 and Hamming Distance, the predicted label for {new_vector[0:-1]} is {k3_ham}\")\n",
        "print(f\"Using k=3 and Manhattan Distance, the predicted label for {new_vector[0:-1]} is {k3_man}\")"
      ],
      "metadata": {
        "colab": {
          "base_uri": "https://localhost:8080/"
        },
        "id": "3Hn6hTfYH8QZ",
        "outputId": "885a6604-c667-4b84-cc3c-96ab1fe7986e"
      },
      "execution_count": 28,
      "outputs": [
        {
          "output_type": "stream",
          "name": "stdout",
          "text": [
            "Using k=1 and Euclidean Distance, the predicted label for [0, 0, 100] is M\n",
            "Using k=1 and Hamming Distance, the predicted label for [0, 0, 100] is F\n",
            "Using k=1 and Manhattan Distance, the predicted label for [0, 0, 100] is M\n",
            "Using k=3 and Euclidean Distance, the predicted label for [0, 0, 100] is M\n",
            "Using k=3 and Hamming Distance, the predicted label for [0, 0, 100] is F\n",
            "Using k=3 and Manhattan Distance, the predicted label for [0, 0, 100] is F\n"
          ]
        }
      ]
    },
    {
      "cell_type": "markdown",
      "source": [
        "Interestingly, in both instances of k, it was the hamming distance metric which predicted F, while the rest predicted M"
      ],
      "metadata": {
        "id": "7On0oMUfLqUH"
      }
    },
    {
      "cell_type": "markdown",
      "metadata": {
        "id": "o-XsqlSRVyEX"
      },
      "source": [
        "Up until here is a simplified version of the homework.\n",
        "Below here is the work for the part we will be checking as the basis of your grade: "
      ]
    },
    {
      "cell_type": "markdown",
      "metadata": {
        "id": "7KPzkCfLGxDK"
      },
      "source": [
        "Now let's look at some bigger files: \n",
        "\n",
        "1. mytrain.csv (for training the model)\n",
        "2. mytest.csv (for testing)\n"
      ]
    },
    {
      "cell_type": "code",
      "metadata": {
        "id": "menQ9SEoG_Ag"
      },
      "source": [
        "url = 'https://github.com/rosenfa/ai/blob/master/mytrain.csv?raw=true'\n",
        "train_data = np.array(pd.read_csv(url,  header=0, error_bad_lines=False))\n",
        "url = 'https://github.com/rosenfa/ai/blob/master/mytest.csv?raw=true'\n",
        "test_data = np.array(pd.read_csv(url,  header=0, error_bad_lines=False))"
      ],
      "execution_count": 29,
      "outputs": []
    },
    {
      "cell_type": "code",
      "metadata": {
        "id": "ej1wLymKHPnT",
        "colab": {
          "base_uri": "https://localhost:8080/"
        },
        "outputId": "94f9d445-2c0b-4946-c6d0-749d7b5aff56"
      },
      "source": [
        "print(train_data.shape)# number of records and features\n",
        "print(train_data)"
      ],
      "execution_count": 30,
      "outputs": [
        {
          "output_type": "stream",
          "name": "stdout",
          "text": [
            "(100, 30)\n",
            "[[0.317251 0.540016 0.150514 ... 0.0 0.212007 'F']\n",
            " [3.882181 0.0 0.0 ... 0.0 0.0 'F']\n",
            " [1.790708 0.0 0.0 ... 0.0 0.0 'F']\n",
            " ...\n",
            " [0.0 0.0 0.0 ... 0.0 0.0 'M']\n",
            " [0.0 0.0 0.0 ... 0.0 0.0 'M']\n",
            " [0.0 0.0 0.0 ... 0.0 0.0 'F']]\n"
          ]
        }
      ]
    },
    {
      "cell_type": "code",
      "metadata": {
        "id": "v9YKMlcPHVWU",
        "colab": {
          "base_uri": "https://localhost:8080/"
        },
        "outputId": "79f71228-2e7a-4236-beb0-5f24cd620f18"
      },
      "source": [
        "print(test_data.shape)# number of records and features\n",
        "print(test_data)"
      ],
      "execution_count": 31,
      "outputs": [
        {
          "output_type": "stream",
          "name": "stdout",
          "text": [
            "(100, 30)\n",
            "[[2.85985 0.66275 0.0 ... 0.995289 0.0 'F']\n",
            " [0.0 12.998726 0.0 ... 0.0 0.0 'F']\n",
            " [13.231318 0.0 0.0 ... 0.0 0.0 'F']\n",
            " ...\n",
            " [0.0 0.0 0.0 ... 0.0 0.0 'M']\n",
            " [1.688611 0.0 3.204529 ... 0.0 0.0 'M']\n",
            " [0.0 0.0 0.0 ... 0.0 0.0 'M']]\n"
          ]
        }
      ]
    },
    {
      "cell_type": "markdown",
      "metadata": {
        "id": "hsjBpdObIB7d"
      },
      "source": [
        "I hope by now you understand where we are going with this :)\n",
        "\n",
        "Now implement the knn code with 3 different values for k:\n",
        "1. k = 1\n",
        "2. k = 7\n",
        "3. k = 15\n",
        "\n",
        "and at first use the Euclidean distance.\n",
        "Classify each of the vectors in the test_data dataset using the training data from train_data.  Which value for k did the best?  What accuracy did it give you?\n",
        "\n",
        "Now see if using Hamming or Manhattan distance give any better results for the same values of k.  \n",
        "\n",
        "Once you are done, you should have a total of 9 different results:\n",
        "\n",
        "1. Three results for the different value of k using the Euclidean Distance\n",
        "2. Three results for the different value of k using the Hamming Distance\n",
        "3. Three results for the different value of k using the Manhattan Distance\n",
        "\n",
        "Hint: I strongly suggest you base yourself on the code you've seen until this point so you don't have to reinvent the wheel!"
      ]
    },
    {
      "cell_type": "markdown",
      "source": [
        "Split the vectors from the labels in hte test data"
      ],
      "metadata": {
        "id": "FEMWmII4MbJL"
      }
    },
    {
      "cell_type": "code",
      "source": [
        "test_data_vectors = [x[0:-1] for x in test_data]\n",
        "test_data_labels = [x[-1] for x in test_data]"
      ],
      "metadata": {
        "id": "pN0bV81tJgyI"
      },
      "execution_count": 32,
      "outputs": []
    },
    {
      "cell_type": "code",
      "metadata": {
        "id": "dIyZbN4kJBrO"
      },
      "source": [
        "# Euclidean Distance\n",
        "\n",
        "predicted_euc_k1 = []\n",
        "predicted_euc_k7 = []\n",
        "predicted_euc_k15 = []\n",
        "# for each test vector. calculate its euclidean distance to all the points in the training data, then sort them and calculate the k closest labels\n",
        "for test_vector in test_data_vectors:\n",
        "  euc_train = [] \n",
        "  for vector in train_data:\n",
        "    label = vector[-1]\n",
        "    dist = euclideanDistance(test_vector, vector, len(vector)-1)\n",
        "    obj = distClass()\n",
        "    obj.dist = dist\n",
        "    obj.tag = label\n",
        "    euc_train.append(obj)\n",
        "  # sort the distances\n",
        "  euc_train.sort(key=lambda x: x.dist) \n",
        "  predicted_euc_k1.append(knn_mf(1, euc_train))\n",
        "  predicted_euc_k7.append(knn_mf(7, euc_train))\n",
        "  predicted_euc_k15.append(knn_mf(15, euc_train))"
      ],
      "execution_count": 33,
      "outputs": []
    },
    {
      "cell_type": "code",
      "source": [
        "# Hamming Distance\n",
        "\n",
        "predicted_ham_k1 = []\n",
        "predicted_ham_k7 = []\n",
        "predicted_ham_k15 = []\n",
        "# for each test vector. calculate its hamming distance to all the points in the training data, then sort them and calculate the k closest labels\n",
        "for test_vector in test_data_vectors:\n",
        "  ham_train = [] \n",
        "  for vector in train_data:\n",
        "    label = vector[-1]\n",
        "    dist = hammingDistance(test_vector, vector)\n",
        "    obj = distClass()\n",
        "    obj.dist = dist\n",
        "    obj.tag = label\n",
        "    ham_train.append(obj)\n",
        "  # sort the distances\n",
        "  ham_train.sort(key=lambda x: x.dist) \n",
        "  predicted_ham_k1.append(knn_mf(1, ham_train))\n",
        "  predicted_ham_k7.append(knn_mf(7, ham_train))\n",
        "  predicted_ham_k15.append(knn_mf(15, ham_train))"
      ],
      "metadata": {
        "id": "705aR2WkMXp_"
      },
      "execution_count": 34,
      "outputs": []
    },
    {
      "cell_type": "code",
      "source": [
        "# Manhattan Distance\n",
        "\n",
        "predicted_man_k1 = []\n",
        "predicted_man_k7 = []\n",
        "predicted_man_k15 = []\n",
        "# for each test vector. calculate its manhattan distance to all the points in the training data, then sort them and calculate the k closest labels\n",
        "for test_vector in test_data_vectors:\n",
        "  man_train = [] \n",
        "  for vector in train_data:\n",
        "    label = vector[-1]\n",
        "    dist = manhattanDistance(test_vector, vector)\n",
        "    obj = distClass()\n",
        "    obj.dist = dist\n",
        "    obj.tag = label\n",
        "    man_train.append(obj)\n",
        "  # sort the distances\n",
        "  man_train.sort(key=lambda x: x.dist) \n",
        "  predicted_man_k1.append(knn_mf(1, man_train))\n",
        "  predicted_man_k7.append(knn_mf(7, man_train))\n",
        "  predicted_man_k15.append(knn_mf(15, man_train))"
      ],
      "metadata": {
        "id": "aV4CKLoRMoPx"
      },
      "execution_count": 35,
      "outputs": []
    },
    {
      "cell_type": "code",
      "source": [
        "def accuracy(pred):\n",
        "  same = 0\n",
        "  true = test_data_labels\n",
        "  for i in range(len(pred)):\n",
        "    if pred[i] == true[i]:\n",
        "      same+=1\n",
        "  return round(same/len(pred), 3)"
      ],
      "metadata": {
        "id": "cf0yHVUeM4LN"
      },
      "execution_count": 36,
      "outputs": []
    },
    {
      "cell_type": "code",
      "source": [
        "print(predicted_man_k1)\n",
        "print(test_data_labels)"
      ],
      "metadata": {
        "colab": {
          "base_uri": "https://localhost:8080/"
        },
        "id": "Hz4oXkqLNbqT",
        "outputId": "fffe5940-2cd5-4c48-8136-5fa58988afa8"
      },
      "execution_count": 37,
      "outputs": [
        {
          "output_type": "stream",
          "name": "stdout",
          "text": [
            "['M', 'M', 'F', 'M', 'F', 'F', 'F', 'F', 'F', 'F', 'F', 'M', 'F', 'M', 'F', 'M', 'F', 'F', 'F', 'M', 'M', 'F', 'M', 'F', 'M', 'M', 'F', 'F', 'F', 'F', 'F', 'F', 'M', 'F', 'M', 'F', 'F', 'F', 'F', 'F', 'F', 'F', 'F', 'F', 'F', 'F', 'F', 'F', 'F', 'F', 'F', 'F', 'F', 'F', 'F', 'F', 'M', 'F', 'F', 'F', 'F', 'M', 'M', 'F', 'F', 'F', 'F', 'M', 'M', 'F', 'M', 'M', 'F', 'F', 'M', 'F', 'F', 'F', 'F', 'M', 'F', 'M', 'M', 'M', 'M', 'M', 'F', 'M', 'F', 'F', 'F', 'M', 'F', 'M', 'F', 'M', 'F', 'M', 'F', 'M']\n",
            "['F', 'F', 'F', 'F', 'F', 'F', 'F', 'F', 'F', 'F', 'F', 'F', 'F', 'F', 'F', 'F', 'F', 'F', 'F', 'F', 'F', 'F', 'F', 'F', 'F', 'F', 'F', 'F', 'F', 'F', 'F', 'F', 'F', 'F', 'F', 'F', 'F', 'F', 'F', 'F', 'F', 'F', 'F', 'F', 'F', 'F', 'F', 'F', 'F', 'F', 'F', 'F', 'F', 'F', 'M', 'M', 'M', 'M', 'M', 'M', 'M', 'M', 'M', 'M', 'M', 'M', 'M', 'M', 'M', 'M', 'M', 'M', 'M', 'M', 'M', 'M', 'M', 'M', 'M', 'M', 'M', 'M', 'M', 'M', 'M', 'M', 'M', 'M', 'M', 'M', 'M', 'M', 'M', 'M', 'M', 'M', 'M', 'M', 'M', 'M']\n"
          ]
        }
      ]
    },
    {
      "cell_type": "code",
      "source": [
        "accuracy(predicted_man_k1)"
      ],
      "metadata": {
        "colab": {
          "base_uri": "https://localhost:8080/"
        },
        "id": "oP1Ta4ONNRg0",
        "outputId": "ac28552d-ac00-449b-b62e-f98dda0c3a01"
      },
      "execution_count": 38,
      "outputs": [
        {
          "output_type": "execute_result",
          "data": {
            "text/plain": [
              "0.61"
            ]
          },
          "metadata": {},
          "execution_count": 38
        }
      ]
    },
    {
      "cell_type": "markdown",
      "source": [
        "# Accuracy Scores"
      ],
      "metadata": {
        "id": "pqoRP9baeTM3"
      }
    },
    {
      "cell_type": "code",
      "source": [
        "print(\"Accuracy using Euclidean Distance for k =1 is: \", accuracy(predicted_euc_k1))\n",
        "print(\"Accuracy using Euclidean Distance for k =7 is: \", accuracy(predicted_euc_k7))\n",
        "print(\"Accuracy using Euclidean Distance for k =15 is: \", accuracy(predicted_euc_k15))\n",
        "\n",
        "print(\"Accuracy using Hamming Distance for k =1 is: \", accuracy(predicted_ham_k1))\n",
        "print(\"Accuracy using Hamming Distance for k =1 is: \", accuracy(predicted_ham_k7))\n",
        "print(\"Accuracy using Hamming Distance for k =1 is: \", accuracy(predicted_ham_k15))\n",
        "\n",
        "print(\"Accuracy using Manhattan Distance for k =1 is: \", accuracy(predicted_man_k1))\n",
        "print(\"Accuracy using Manhattan Distance for k =1 is: \", accuracy(predicted_man_k7))\n",
        "print(\"Accuracy using Manhattan Distance for k =1 is: \", accuracy(predicted_man_k15))"
      ],
      "metadata": {
        "colab": {
          "base_uri": "https://localhost:8080/"
        },
        "id": "CEGXJNgdNn0Q",
        "outputId": "c7d83c9e-71f9-431d-a173-005810528ef2"
      },
      "execution_count": 39,
      "outputs": [
        {
          "output_type": "stream",
          "name": "stdout",
          "text": [
            "Accuracy using Euclidean Distance for k =1 is:  0.5\n",
            "Accuracy using Euclidean Distance for k =7 is:  0.74\n",
            "Accuracy using Euclidean Distance for k =15 is:  0.7\n",
            "Accuracy using Hamming Distance for k =1 is:  0.61\n",
            "Accuracy using Hamming Distance for k =1 is:  0.55\n",
            "Accuracy using Hamming Distance for k =1 is:  0.57\n",
            "Accuracy using Manhattan Distance for k =1 is:  0.61\n",
            "Accuracy using Manhattan Distance for k =1 is:  0.64\n",
            "Accuracy using Manhattan Distance for k =1 is:  0.69\n"
          ]
        }
      ]
    },
    {
      "cell_type": "markdown",
      "metadata": {
        "id": "HD2PnNuTQ175"
      },
      "source": [
        "Grade Basis:\n",
        "\n",
        "80% for correct answers (and yes, there are possibilities that multiple answers are correct-- especially for cases of ties).\n",
        "\n",
        "20% : Documentation and easily readable code\n",
        "\n",
        "Please publish your final Notebook in your Github directory.\n",
        "\n",
        "The homework assignment is due by November 30th.\n"
      ]
    }
  ]
}